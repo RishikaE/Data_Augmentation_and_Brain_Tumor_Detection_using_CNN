{
  "cells": [
    {
      "cell_type": "markdown",
      "metadata": {
        "id": "oJnSPS93O0sZ"
      },
      "source": []
    },
    {
      "cell_type": "markdown",
      "metadata": {
        "id": "qXl9RaDE7D1j"
      },
      "source": [
        "# Data Augmentation"
      ]
    },
    {
      "cell_type": "code",
      "execution_count": null,
      "metadata": {
        "colab": {
          "base_uri": "https://localhost:8080/"
        },
        "id": "yK8PSjbYl_44",
        "outputId": "a115df23-a53d-4de7-f54d-520058f18469"
      },
      "outputs": [
        {
          "name": "stdout",
          "output_type": "stream",
          "text": [
            "Mounted at /content/drive\n"
          ]
        }
      ],
      "source": [
        "from google.colab import drive\n",
        "drive.mount('/content/drive')"
      ]
    },
    {
      "cell_type": "code",
      "execution_count": null,
      "metadata": {
        "id": "YlqhC6kayIqP"
      },
      "outputs": [],
      "source": [
        "import tensorflow as tf\n",
        "from keras.preprocessing.image import ImageDataGenerator\n",
        "import cv2\n",
        "import imutils\n",
        "import matplotlib.pyplot as plt\n",
        "import os\n",
        "import time\n",
        "from os import listdir\n"
      ]
    },
    {
      "cell_type": "code",
      "execution_count": null,
      "metadata": {
        "id": "Qm7fdPPEyLb5"
      },
      "outputs": [],
      "source": [
        "def augment_data(file_dir, n_generated_samples, save_to_dir):\n",
        "    '''\n",
        "    file_dir: Directory path where original img is located\n",
        "    n_generated_samples: Number of augmented samples to generate for each original image\n",
        "    save_to_dir: Directory where the augmented images will be saved\n",
        "    '''\n",
        "    data_gen = ImageDataGenerator(\n",
        "        rotation_range=10,\n",
        "        width_shift_range=0.1,\n",
        "        height_shift_range=0.1,\n",
        "        shear_range=0.1,\n",
        "        brightness_range=(0.3, 1.0),\n",
        "        horizontal_flip=True,\n",
        "        vertical_flip=True,\n",
        "        fill_mode='nearest'  '''#constant,reflect,wrap\n",
        "        #aaaaaa|abcd|dddddd'''\n",
        "    )\n",
        "\n",
        "    for filename in os.listdir(file_dir):\n",
        "        image = cv2.imread(os.path.join(file_dir, filename))\n",
        "        if image is not None:\n",
        "        ''' # It reshape the image to have a batch dimension of 1'''\n",
        "            image = image.reshape((1,) + image.shape)\n",
        "            save_prefix = 'aug_' + filename[:-4]\n",
        "            i = 0\n",
        "            # no.of augmented image sample generater\n",
        "\n",
        "            #x=image -> Original image\n",
        "            #batch_size=1 -> generates one augment sample at a time\n",
        "            #flow() -> generates batches of augmented or preprocessed image data, usefull in DL model when dealing with large dataset\n",
        "            \n",
        "            for batch in data_gen.flow(x=image, batch_size=1, save_to_dir=save_to_dir,\n",
        "                                       save_prefix=save_prefix, save_format='jpg'):\n",
        "                i += 1\n",
        "                if i > n_generated_samples:\n",
        "                    break"
      ]
    },
    {
      "cell_type": "code",
      "execution_count": null,
      "metadata": {
        "colab": {
          "base_uri": "https://localhost:8080/"
        },
        "id": "3vnHcnE0vSXM",
        "outputId": "ee6fa55e-2649-4331-cb98-0f5cab2d0837"
      },
      "outputs": [
        {
          "name": "stdout",
          "output_type": "stream",
          "text": [
            "Elapsed time: 156.3 seconds\n"
          ]
        }
      ],
      "source": [
        "start_time = time.time()\n",
        "\n",
        "augmented_data_path = 'augmented_data/'\n",
        "yes_path = '/content/drive/MyDrive/yes'\n",
        "no_path = '/content/drive/MyDrive/no'\n",
        "\n",
        "os.makedirs(augmented_data_path, exist_ok=True)\n",
        "os.makedirs(os.path.join(augmented_data_path, 'yes'), exist_ok=True)\n",
        "os.makedirs(os.path.join(augmented_data_path, 'no'), exist_ok=True)\n",
        "\n",
        "augment_data(file_dir=yes_path, n_generated_samples=6, save_to_dir=os.path.join(augmented_data_path, 'yes'))\n",
        "augment_data(file_dir=no_path, n_generated_samples=9, save_to_dir=os.path.join(augmented_data_path, 'no'))\n",
        "\n",
        "end_time = time.time()\n",
        "execution_time = end_time - start_time\n",
        "print(f\"Elapsed time: {execution_time:.1f} seconds\")"
      ]
    },
    {
      "cell_type": "code",
      "execution_count": null,
      "metadata": {
        "id": "thEATaC7xQFW"
      },
      "outputs": [],
      "source": [
        "def data_summary(main_path):\n",
        "\n",
        "    yes_path = main_path+'yes'\n",
        "    no_path = main_path+'no'\n",
        "\n",
        "    # number of files (images) that are in the the folder named 'yes' that represent tumorous (positive) examples\n",
        "    m_pos = len(listdir(yes_path))\n",
        "    # number of files (images) that are in the the folder named 'no' that represent non-tumorous (negative) examples\n",
        "    m_neg = len(listdir(no_path))\n",
        "    # number of all examples\n",
        "    m = (m_pos+m_neg)\n",
        "\n",
        "    pos_prec = (m_pos* 100.0)/ m\n",
        "    neg_prec = (m_neg* 100.0)/ m\n",
        "\n",
        "    print(f\"Number of examples: {m}\")\n",
        "    print(f\"Percentage of positive examples: {pos_prec}%, number of pos examples: {m_pos}\")\n",
        "    print(f\"Percentage of negative examples: {neg_prec}%, number of neg examples: {m_neg}\")"
      ]
    },
    {
      "cell_type": "code",
      "execution_count": null,
      "metadata": {
        "colab": {
          "base_uri": "https://localhost:8080/"
        },
        "id": "KWs4wPEAxQ49",
        "outputId": "3165d499-4912-4792-9077-3ec6d7faa4ff"
      },
      "outputs": [
        {
          "name": "stdout",
          "output_type": "stream",
          "text": [
            "Number of examples: 2065\n",
            "Percentage of positive examples: 52.54237288135593%, number of pos examples: 1085\n",
            "Percentage of negative examples: 47.45762711864407%, number of neg examples: 980\n"
          ]
        }
      ],
      "source": [
        "data_summary(augmented_data_path)"
      ]
    }
  ],
  "metadata": {
    "accelerator": "TPU",
    "colab": {
      "provenance": []
    },
    "gpuClass": "standard",
    "kernelspec": {
      "display_name": "Python 3",
      "name": "python3"
    },
    "language_info": {
      "name": "python"
    }
  },
  "nbformat": 4,
  "nbformat_minor": 0
}
